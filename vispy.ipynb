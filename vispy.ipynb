{
  "metadata": {},
  "nbformat_minor": 0,
  "nbformat": 4,
  "cells": [
    {
      "cell_type": "code",
      "metadata": {},
      "source": "import numpy as np\nimport numpy.random as nr",
      "outputs": [],
      "execution_count": 1
    },
    {
      "cell_type": "code",
      "metadata": {},
      "source": "%gui qt",
      "outputs": [],
      "execution_count": 2
    },
    {
      "cell_type": "code",
      "metadata": {},
      "source": "import vispy\nfrom vispy.io import load_data_file\nimport vispy.plot as vp\nimport vispy.color as vc",
      "outputs": [],
      "execution_count": 3
    },
    {
      "cell_type": "code",
      "metadata": {},
      "source": "n = 10000",
      "outputs": [],
      "execution_count": 4
    },
    {
      "cell_type": "code",
      "metadata": {},
      "source": "x, y = nr.randn(2, n)\ncolors = nr.uniform(low=.7, high=1., size=(n, 4))\nsize = nr.uniform(low=1., high=30., size=n)",
      "outputs": [],
      "execution_count": 5
    },
    {
      "cell_type": "code",
      "metadata": {},
      "source": "c = vp.scatter(x, y, face_color=colors,\n               size=size)",
      "outputs": [],
      "execution_count": 6
    },
    {
      "cell_type": "code",
      "metadata": {},
      "source": "n = 250\nt = np.linspace(0., 1., n)\nz = np.sin(20 * t)\ncolors = nr.uniform(low=.5, high=.75, size=(n, 3))\nvp.plot(t, z,\n        color='red',\n        face_color=colors\n       )",
      "outputs": [],
      "execution_count": 7
    },
    {
      "cell_type": "code",
      "metadata": {},
      "source": "fname = load_data_file('lena/lena.png')\nimg = vispy.io.read_png(fname)\nvp.image(img)",
      "outputs": [],
      "execution_count": 8
    },
    {
      "cell_type": "code",
      "metadata": {},
      "source": "vp.mesh(fname=load_data_file('orig/triceratops.obj.gz'),\n        distance=2)",
      "outputs": [],
      "execution_count": 9
    }
  ]
}