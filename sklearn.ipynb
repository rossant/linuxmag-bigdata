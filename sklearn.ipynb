{
  "metadata": {},
  "nbformat_minor": 0,
  "nbformat": 4,
  "cells": [
    {
      "cell_type": "code",
      "metadata": {},
      "source": "import numpy as np\nimport pandas as pd\nimport sklearn.linear_model as lm\nimport sklearn.svm as svm\nimport sklearn.neighbors as nb\nimport sklearn.cross_validation as cv\nimport sklearn.grid_search as gs\nimport matplotlib.pyplot as plt\n%matplotlib inline\nimport seaborn\nimport matplotlib  # ipymd-skip\nmatplotlib.rcParams['figure.dpi'] = matplotlib.rcParams['savefig.dpi'] = 144  # ipymd-skip",
      "outputs": [],
      "execution_count": 1
    },
    {
      "cell_type": "code",
      "metadata": {},
      "source": "train = pd.read_csv('data/titanic.csv')  # On charge le fichier CSV.\ntrain.head(3)  # On affiche les 3 premi\u00e8res lignes.",
      "outputs": [],
      "execution_count": 2
    },
    {
      "cell_type": "code",
      "metadata": {},
      "source": "data = train[['Sex', 'Age', 'Pclass', 'Survived']]\ndata['Sex'] = data['Sex'] == 'female'  # On convertit en bool\u00e9en.\ndata = data.dropna()  # On enl\u00e8ve les donn\u00e9es manquantes.",
      "outputs": [],
      "execution_count": 3
    },
    {
      "cell_type": "code",
      "metadata": {},
      "source": "data_np = data.astype(np.int32).values  # On convertit en tableau NumPy.\nX = data_np[:,:-1]  # On r\u00e9cup\u00e8re les samples\ny = data_np[:,-1]  # et la cible.",
      "outputs": [],
      "execution_count": 4
    },
    {
      "cell_type": "code",
      "metadata": {},
      "source": "(X_train, X_test, y_train, y_test) = cv.train_test_split(X, y, test_size=.05)",
      "outputs": [],
      "execution_count": 5
    },
    {
      "cell_type": "code",
      "metadata": {},
      "source": "def eval_model(model):\n    model.fit(X_train, y_train)\n    y_predicted = model.predict(X_test)\n    name = model.__class__.__name__\n    score = model.score(X_test, y_test)\n    print(name)\n    print('-' * len(name))\n    print(\"   Actual:\", y_test[:20])\n    print(\"Predicted:\", y_predicted[:20])\n    print(\"Score: {0:.3f}\".format(score))\n    print()\n    return model",
      "outputs": [],
      "execution_count": 6
    },
    {
      "cell_type": "code",
      "metadata": {},
      "source": "models = [\n    nb.KNeighborsClassifier(),\n    svm.LinearSVC(),\n    lm.LogisticRegression(),\n    ]",
      "outputs": [],
      "execution_count": 7
    },
    {
      "cell_type": "code",
      "metadata": {},
      "source": "for model in models:\n    eval_model(model)",
      "outputs": [
        {
          "output_type": "execute_result",
          "metadata": {},
          "data": {
            "text/plain": "KNeighborsClassifier\n--------------------\n   Actual: [0 0 0 0 1 1 0 0 0 1 1 0 0 0 0 1 0 1 0 0]\nPredicted: [0 0 1 0 1 1 0 0 0 1 1 0 0 0 0 1 0 1 1 0]\nScore: 0.833\n\nLinearSVC\n---------\n   Actual: [0 0 0 0 1 1 0 0 0 1 1 0 0 0 0 1 0 1 0 0]\nPredicted: [0 0 0 0 1 0 0 0 0 1 0 0 0 0 0 1 0 1 0 0]\nScore: 0.833\n\nLogisticRegression\n------------------\n   Actual: [0 0 0 0 1 1 0 0 0 1 1 0 0 0 0 1 0 1 0 0]\nPredicted: [0 0 0 0 1 0 0 0 0 1 0 0 0 0 0 1 0 1 1 0]\nScore: 0.778"
          },
          "execution_count": 8
        }
      ],
      "execution_count": 8
    },
    {
      "cell_type": "code",
      "metadata": {},
      "source": "model = eval_model(gs.GridSearchCV(lm.LogisticRegression(),\n                                   {'C': np.logspace(-2., 2., 100)}))",
      "outputs": [
        {
          "output_type": "execute_result",
          "metadata": {},
          "data": {
            "text/plain": "GridSearchCV\n------------\n   Actual: [0 0 0 0 1 1 0 0 0 1 1 0 0 0 0 1 0 1 0 0]\nPredicted: [0 0 0 0 1 0 0 0 0 1 0 0 0 0 0 1 0 1 1 0]\nScore: 0.778"
          },
          "execution_count": 9
        }
      ],
      "execution_count": 9
    },
    {
      "cell_type": "code",
      "metadata": {},
      "source": "model.best_params_",
      "outputs": [
        {
          "output_type": "execute_result",
          "metadata": {},
          "data": {
            "text/plain": "{'C': 1.831}"
          },
          "execution_count": 10
        }
      ],
      "execution_count": 10
    }
  ]
}